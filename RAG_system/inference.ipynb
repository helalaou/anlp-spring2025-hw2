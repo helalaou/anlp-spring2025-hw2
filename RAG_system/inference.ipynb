{
 "cells": [
  {
   "cell_type": "code",
   "execution_count": 29,
   "metadata": {},
   "outputs": [
    {
     "data": {
      "text/plain": [
       "ProgressResponse(status='success', completed=None, total=None, digest=None)"
      ]
     },
     "execution_count": 29,
     "metadata": {},
     "output_type": "execute_result"
    }
   ],
   "source": [
    "import requests\n",
    "import json\n",
    "import ollama\n",
    "\n",
    "url = \"http://127.0.0.1:8000/query\"\n",
    "headers = {\"Content-Type\": \"application/json\"}\n",
    "ollama.pull('llama3.1:8b') "
   ]
  },
  {
   "cell_type": "markdown",
   "metadata": {},
   "source": [
    "## Get Answer of a Question ##"
   ]
  },
  {
   "cell_type": "code",
   "execution_count": 58,
   "metadata": {},
   "outputs": [],
   "source": [
    "def get_response(query):\n",
    "    response = requests.post(url, data=json.dumps({\"query\": query}), headers=headers)\n",
    "    return response.json()"
   ]
  },
  {
   "cell_type": "code",
   "execution_count": null,
   "metadata": {},
   "outputs": [],
   "source": [
    "def get_prompt(response):\n",
    "    system_prompt = \"You are a factual question-answering assistant specializing in information about Pittsburgh and Carnegie Mellon University (CMU).\\nYour task is to provide accurate answers to questions about various facts concerning Pittsburgh and CMU.\\nYou are given a user question and a context. Your task is to answer the question based on the retrieved documents in the context while also considering the chat history.\\nDo not hallucinate or add extra information. Stick to the information provided in the retrieved documents.\\nIf the retrieved documents do not contain information relevant to the question or if the information is irrelevant, then you shoud acknowledge that you don't have enough information to answer accurately.\\nWrite in a clear, concise, and informative tone.\\nDO not mention the source from where you got the information. If you get too much information, only use the information that you need to answer the question and ignore the rest.\"\n",
    "    prompt = f\"SYSTEM PROMPT:\\n {system_prompt}\\n ---------------------------\\n\"\n",
    "    prompt += f\"USER QUESTION:\\n{response['query']}\\n---------------------------\\n\"\n",
    "    prompt += f\"RETRIEVED DOCUMENTS:\\n{response['context']}\\n\"\n",
    "    prompt += f\"---------------------------\\nYour answer:\"\n",
    "\n",
    "    return prompt\n",
    "\n",
    "def call_ollama(prompt):\n",
    "    response = ollama.chat(model='llama3.1:8b', messages=[{\"role\": \"user\", \"content\": prompt}])\n",
    "    return response.message.content\n",
    "\n",
    "def get_answer(question):\n",
    "    response = get_response(question)\n",
    "\n",
    "    prompt = get_prompt(response)\n",
    "\n",
    "    response = ollama.chat(model='llama3.1:8b', messages=[{\"role\": \"user\", \"content\": prompt}])\n",
    "\n",
    "    return response.message.content"
   ]
  },
  {
   "cell_type": "markdown",
   "metadata": {},
   "source": [
    "### Testings ###"
   ]
  },
  {
   "cell_type": "code",
   "execution_count": 109,
   "metadata": {},
   "outputs": [
    {
     "name": "stdout",
     "output_type": "stream",
     "text": [
      "RAG Response\n",
      "{'query': 'How many spinoff companies did CMU create in 2014?  ', 'context': '39707: How many spinoff companies did CMU create in 2014?  \\nA: 36.\\n\\n39688: How many companies have been launched from CMU?  \\nA: Over 1,000 companies globally.\\n\\n39706: What major companies have set up operations in Pittsburgh due to CMU?  \\nA: Google, Intel, Uber, and GE.'}\n",
      "CMU created 36 spinoff companies in 2014.\n"
     ]
    }
   ],
   "source": [
    "question = \"How many spinoff companies did CMU create in 2014?  \"\n",
    "print(get_answer(question))"
   ]
  },
  {
   "cell_type": "code",
   "execution_count": 44,
   "metadata": {},
   "outputs": [
    {
     "name": "stdout",
     "output_type": "stream",
     "text": [
      "RAG Response\n",
      "{'query': 'How many spinoff companies did CMU create in 2014?  ', 'context': '39707: How many spinoff companies did CMU create in 2014?  \\nA: 36.\\n\\n39688: How many companies have been launched from CMU?  \\nA: Over 1,000 companies globally.\\n\\n39706: What major companies have set up operations in Pittsburgh due to CMU?  \\nA: Google, Intel, Uber, and GE.'}\n",
      "CMU created 36 spinoff companies in 2014.\n"
     ]
    }
   ],
   "source": [
    "question = \"How many spinoff companies did CMU create in 2014?  \"\n",
    "print(get_answer(question))"
   ]
  },
  {
   "cell_type": "markdown",
   "metadata": {},
   "source": [
    "## Evaluation Code ##"
   ]
  },
  {
   "cell_type": "code",
   "execution_count": null,
   "metadata": {},
   "outputs": [],
   "source": [
    "import nltk\n",
    "from nltk.corpus import stopwords\n",
    "import string\n",
    "\n",
    "\n",
    "nltk.download('stopwords')\n",
    "print(stopwords.words('english'))\n",
    "stop_words = set(stopwords.words('english'))"
   ]
  },
  {
   "cell_type": "code",
   "execution_count": 48,
   "metadata": {},
   "outputs": [],
   "source": [
    "def remove_stop_words(text, stopwords):\n",
    "    words = text.translate(str.maketrans('', '', string.punctuation)).split()\n",
    "\n",
    "    word_set = set()\n",
    "\n",
    "    for w in words:\n",
    "        if w not in stopwords:\n",
    "            word_set.add(w)\n",
    "    \n",
    "    return word_set\n",
    "\n",
    "\n",
    "def get_confusion_matrix(gt, answer, stopwords):\n",
    "    gt_set = remove_stop_words(gt, stopwords)\n",
    "    answer_set = remove_stop_words(answer, stopwords)\n",
    "\n",
    "    intersect = gt_set.intersection(answer_set)\n",
    "    false_negative = gt_set - answer_set\n",
    "    false_positive = answer_set - gt_set\n",
    "\n",
    "    return len(intersect), len(false_negative), len(false_positive)\n",
    "\n",
    "def calculate_metrics(gt, answer, stopwords):\n",
    "    TP, FN, FP =  get_confusion_matrix(gt, answer, stopwords)\n",
    "\n",
    "    precision = TP / (TP + FP) if (TP + FP) > 0 else 0\n",
    "    recall = TP / (TP + FN) if (TP + FN) > 0 else 0\n",
    "    f1_score = (2 * precision * recall) / (precision + recall) if (precision + recall) > 0 else 0\n",
    "    fnr = FN / (TP + FN) if (TP + FN) > 0 else 0\n",
    "    \n",
    "    return {\n",
    "        \"Precision\": precision,\n",
    "        \"Recall\": recall,\n",
    "        \"F1 Score\": f1_score,\n",
    "        \"False Negative Rate\": fnr,\n",
    "        \"TP\": TP,\n",
    "        \"FN\": FN,\n",
    "        \"FP\": FP\n",
    "    }"
   ]
  },
  {
   "cell_type": "code",
   "execution_count": 47,
   "metadata": {},
   "outputs": [],
   "source": [
    "def get_semantic_similarity(gt, answer, model):\n",
    "    # Get sentence embeddings\n",
    "    embedding1 = model.encode(gt, convert_to_tensor=True)\n",
    "    embedding2 = model.encode(answer, convert_to_tensor=True)\n",
    "\n",
    "    # Compute cosine similarity\n",
    "    similarity = util.cos_sim(embedding1, embedding2)\n",
    "\n",
    "    return similarity"
   ]
  },
  {
   "cell_type": "code",
   "execution_count": null,
   "metadata": {},
   "outputs": [],
   "source": [
    "from sentence_transformers import SentenceTransformer, util\n",
    "\n",
    "\n",
    "text = \"I like that good apple, do you like it?\"\n",
    "gt = \"I love apple, it is good\"\n",
    "\n",
    "model = SentenceTransformer(\"sentence-transformers/all-MiniLM-L6-v2\")"
   ]
  },
  {
   "cell_type": "markdown",
   "metadata": {},
   "source": [
    "## Evaluate ##"
   ]
  },
  {
   "cell_type": "code",
   "execution_count": 60,
   "metadata": {},
   "outputs": [],
   "source": [
    "def load_QAs(file_dir):\n",
    "\n",
    "    with open(file_dir, 'r') as f:\n",
    "        data = f.readlines()\n",
    "    \n",
    "    num_lines = len(data)\n",
    "\n",
    "    QA_pairs = []\n",
    "\n",
    "    for i in range(num_lines//3):\n",
    "        q = data[i*3].replace(\"Q: \", \"\")\n",
    "        a = data[i*3+1].replace(\"A: \", \"\")\n",
    "\n",
    "        QA_pairs.append((q,a))\n",
    "    \n",
    "    return QA_pairs\n"
   ]
  },
  {
   "cell_type": "code",
   "execution_count": 62,
   "metadata": {},
   "outputs": [],
   "source": [
    "import pandas as pd\n",
    "from sentence_transformers import SentenceTransformer, util\n",
    "\n",
    "from tqdm import tqdm\n",
    "\n",
    "\n",
    "# file_dir = \"test_QAs.txt\"\n",
    "\n",
    "def get_eval_by_file(file_dir):\n",
    "\n",
    "    QAs = load_QAs(file_dir)\n",
    "\n",
    "    columns = [\"Precision\", \"Recall\", \"F1 Score\", \"False Negative Rate\", \"TP\", \"FN\", \"FP\", \"Semantic Similarity\"]\n",
    "    df = pd.DataFrame(columns=columns)\n",
    "    df_list = []\n",
    "\n",
    "    model = SentenceTransformer(\"sentence-transformers/all-MiniLM-L6-v2\")\n",
    "\n",
    "\n",
    "    for q, a in tqdm(QAs):\n",
    "        model_answer = get_answer(q)\n",
    "\n",
    "        metrics = calculate_metrics(a, model_answer, stop_words)\n",
    "        similarity = get_semantic_similarity(a, model_answer, model)\n",
    "        metrics[\"Semantic Similarity\"] = similarity.item()\n",
    "\n",
    "        df_temp = pd.DataFrame([metrics])\n",
    "        df_list.append(df_temp)\n",
    "        \n",
    "    df = pd.concat(df_list, ignore_index=True)\n",
    "    return df\n"
   ]
  },
  {
   "cell_type": "markdown",
   "metadata": {},
   "source": [
    "### Evaluate Each Settings ###"
   ]
  },
  {
   "cell_type": "markdown",
   "metadata": {},
   "source": [
    "#### Evaluate Alibaba Model ####"
   ]
  },
  {
   "cell_type": "code",
   "execution_count": null,
   "metadata": {},
   "outputs": [],
   "source": [
    "df_Alibaba_3 = get_eval_by_file(\"test_combined.txt\")"
   ]
  },
  {
   "cell_type": "code",
   "execution_count": null,
   "metadata": {},
   "outputs": [],
   "source": [
    "df_Alibaba_3[\"Model\"] = \"Alibaba\"\n",
    "df_Alibaba_3[\"Top-k\"] = 3\n",
    "df_Alibaba_3.to_csv(\"Alibaba_3.csv\", index=True)"
   ]
  },
  {
   "cell_type": "code",
   "execution_count": null,
   "metadata": {},
   "outputs": [],
   "source": [
    "df_Alibaba_1 = get_eval_by_file(\"test_combined.txt\")"
   ]
  },
  {
   "cell_type": "code",
   "execution_count": 66,
   "metadata": {},
   "outputs": [],
   "source": [
    "df_Alibaba_1[\"Model\"] = \"Alibaba\"\n",
    "df_Alibaba_1[\"Top-k\"] = 1\n",
    "df_Alibaba_1.to_csv(\"Alibaba_1.csv\", index=True)"
   ]
  },
  {
   "cell_type": "code",
   "execution_count": null,
   "metadata": {},
   "outputs": [],
   "source": [
    "# Measure average inference time\n",
    "import time\n",
    "\n",
    "QAs = load_QAs(\"test_combined.txt\")\n",
    "\n",
    "total_time = 0\n",
    "\n",
    "for q,a in QAs:\n",
    "    start_time = time.time()\n",
    "    model_answer = get_answer(q)\n",
    "    total_time += time.time() - start_time\n",
    "\n",
    "total_time"
   ]
  },
  {
   "cell_type": "code",
   "execution_count": 70,
   "metadata": {},
   "outputs": [
    {
     "data": {
      "text/plain": [
       "3.196448818618703"
      ]
     },
     "execution_count": 70,
     "metadata": {},
     "output_type": "execute_result"
    }
   ],
   "source": [
    "total_time/len(QAs)"
   ]
  },
  {
   "cell_type": "markdown",
   "metadata": {},
   "source": [
    "#### Evaluate Sentence_Transformer Model ####"
   ]
  },
  {
   "cell_type": "code",
   "execution_count": null,
   "metadata": {},
   "outputs": [],
   "source": [
    "df_ST_1 = get_eval_by_file(\"test_combined.txt\")\n",
    "df_ST_1[\"Model\"] = \"ST\"\n",
    "df_ST_1[\"Top-k\"] = 1\n",
    "df_ST_1.to_csv(\"ST_1.csv\", index=True)"
   ]
  },
  {
   "cell_type": "code",
   "execution_count": null,
   "metadata": {},
   "outputs": [],
   "source": [
    "# Measure average inference time\n",
    "import time\n",
    "\n",
    "total_time_st_1 = 0\n",
    "\n",
    "for q,a in QAs:\n",
    "    start_time = time.time()\n",
    "    model_answer = get_answer(q)\n",
    "    total_time += time.time() - start_time\n",
    "\n",
    "total_time_st_1"
   ]
  },
  {
   "cell_type": "code",
   "execution_count": 73,
   "metadata": {},
   "outputs": [
    {
     "data": {
      "text/plain": [
       "3.4861447743966547"
      ]
     },
     "execution_count": 73,
     "metadata": {},
     "output_type": "execute_result"
    }
   ],
   "source": [
    "(total_time)/len(QAs) - 3.196448818618703"
   ]
  },
  {
   "cell_type": "code",
   "execution_count": null,
   "metadata": {},
   "outputs": [],
   "source": [
    "df_ST_3 = get_eval_by_file(\"test_combined.txt\")\n",
    "df_ST_3[\"Model\"] = \"ST\"\n",
    "df_ST_3[\"Top-k\"] = 3\n",
    "df_ST_3.to_csv(\"ST_3.csv\", index=True)"
   ]
  },
  {
   "cell_type": "markdown",
   "metadata": {},
   "source": [
    "### Test Functions ###"
   ]
  },
  {
   "cell_type": "code",
   "execution_count": 54,
   "metadata": {},
   "outputs": [
    {
     "data": {
      "text/html": [
       "<div>\n",
       "<style scoped>\n",
       "    .dataframe tbody tr th:only-of-type {\n",
       "        vertical-align: middle;\n",
       "    }\n",
       "\n",
       "    .dataframe tbody tr th {\n",
       "        vertical-align: top;\n",
       "    }\n",
       "\n",
       "    .dataframe thead th {\n",
       "        text-align: right;\n",
       "    }\n",
       "</style>\n",
       "<table border=\"1\" class=\"dataframe\">\n",
       "  <thead>\n",
       "    <tr style=\"text-align: right;\">\n",
       "      <th></th>\n",
       "      <th>Precision</th>\n",
       "      <th>Recall</th>\n",
       "      <th>F1 Score</th>\n",
       "      <th>False Negative Rate</th>\n",
       "      <th>TP</th>\n",
       "      <th>FN</th>\n",
       "      <th>FP</th>\n",
       "      <th>Semantic Similarity</th>\n",
       "    </tr>\n",
       "  </thead>\n",
       "  <tbody>\n",
       "    <tr>\n",
       "      <th>0</th>\n",
       "      <td>0.250000</td>\n",
       "      <td>0.333333</td>\n",
       "      <td>0.285714</td>\n",
       "      <td>0.666667</td>\n",
       "      <td>1</td>\n",
       "      <td>2</td>\n",
       "      <td>3</td>\n",
       "      <td>0.419860</td>\n",
       "    </tr>\n",
       "    <tr>\n",
       "      <th>1</th>\n",
       "      <td>0.785714</td>\n",
       "      <td>0.611111</td>\n",
       "      <td>0.687500</td>\n",
       "      <td>0.388889</td>\n",
       "      <td>11</td>\n",
       "      <td>7</td>\n",
       "      <td>3</td>\n",
       "      <td>0.707158</td>\n",
       "    </tr>\n",
       "    <tr>\n",
       "      <th>2</th>\n",
       "      <td>0.222222</td>\n",
       "      <td>0.500000</td>\n",
       "      <td>0.307692</td>\n",
       "      <td>0.500000</td>\n",
       "      <td>2</td>\n",
       "      <td>2</td>\n",
       "      <td>7</td>\n",
       "      <td>0.594896</td>\n",
       "    </tr>\n",
       "    <tr>\n",
       "      <th>3</th>\n",
       "      <td>0.250000</td>\n",
       "      <td>1.000000</td>\n",
       "      <td>0.400000</td>\n",
       "      <td>0.000000</td>\n",
       "      <td>3</td>\n",
       "      <td>0</td>\n",
       "      <td>9</td>\n",
       "      <td>0.621175</td>\n",
       "    </tr>\n",
       "    <tr>\n",
       "      <th>4</th>\n",
       "      <td>0.000000</td>\n",
       "      <td>0.000000</td>\n",
       "      <td>0.000000</td>\n",
       "      <td>1.000000</td>\n",
       "      <td>0</td>\n",
       "      <td>4</td>\n",
       "      <td>10</td>\n",
       "      <td>0.194657</td>\n",
       "    </tr>\n",
       "    <tr>\n",
       "      <th>5</th>\n",
       "      <td>0.100000</td>\n",
       "      <td>0.250000</td>\n",
       "      <td>0.142857</td>\n",
       "      <td>0.750000</td>\n",
       "      <td>1</td>\n",
       "      <td>3</td>\n",
       "      <td>9</td>\n",
       "      <td>0.524587</td>\n",
       "    </tr>\n",
       "    <tr>\n",
       "      <th>6</th>\n",
       "      <td>0.081081</td>\n",
       "      <td>0.214286</td>\n",
       "      <td>0.117647</td>\n",
       "      <td>0.785714</td>\n",
       "      <td>3</td>\n",
       "      <td>11</td>\n",
       "      <td>34</td>\n",
       "      <td>0.834664</td>\n",
       "    </tr>\n",
       "    <tr>\n",
       "      <th>7</th>\n",
       "      <td>0.363636</td>\n",
       "      <td>0.923077</td>\n",
       "      <td>0.521739</td>\n",
       "      <td>0.076923</td>\n",
       "      <td>12</td>\n",
       "      <td>1</td>\n",
       "      <td>21</td>\n",
       "      <td>0.804906</td>\n",
       "    </tr>\n",
       "    <tr>\n",
       "      <th>8</th>\n",
       "      <td>0.166667</td>\n",
       "      <td>0.500000</td>\n",
       "      <td>0.250000</td>\n",
       "      <td>0.500000</td>\n",
       "      <td>5</td>\n",
       "      <td>5</td>\n",
       "      <td>25</td>\n",
       "      <td>0.903842</td>\n",
       "    </tr>\n",
       "    <tr>\n",
       "      <th>9</th>\n",
       "      <td>0.222222</td>\n",
       "      <td>0.500000</td>\n",
       "      <td>0.307692</td>\n",
       "      <td>0.500000</td>\n",
       "      <td>2</td>\n",
       "      <td>2</td>\n",
       "      <td>7</td>\n",
       "      <td>0.566965</td>\n",
       "    </tr>\n",
       "  </tbody>\n",
       "</table>\n",
       "</div>"
      ],
      "text/plain": [
       "   Precision    Recall  F1 Score  False Negative Rate  TP  FN  FP  \\\n",
       "0   0.250000  0.333333  0.285714             0.666667   1   2   3   \n",
       "1   0.785714  0.611111  0.687500             0.388889  11   7   3   \n",
       "2   0.222222  0.500000  0.307692             0.500000   2   2   7   \n",
       "3   0.250000  1.000000  0.400000             0.000000   3   0   9   \n",
       "4   0.000000  0.000000  0.000000             1.000000   0   4  10   \n",
       "5   0.100000  0.250000  0.142857             0.750000   1   3   9   \n",
       "6   0.081081  0.214286  0.117647             0.785714   3  11  34   \n",
       "7   0.363636  0.923077  0.521739             0.076923  12   1  21   \n",
       "8   0.166667  0.500000  0.250000             0.500000   5   5  25   \n",
       "9   0.222222  0.500000  0.307692             0.500000   2   2   7   \n",
       "\n",
       "   Semantic Similarity  \n",
       "0             0.419860  \n",
       "1             0.707158  \n",
       "2             0.594896  \n",
       "3             0.621175  \n",
       "4             0.194657  \n",
       "5             0.524587  \n",
       "6             0.834664  \n",
       "7             0.804906  \n",
       "8             0.903842  \n",
       "9             0.566965  "
      ]
     },
     "execution_count": 54,
     "metadata": {},
     "output_type": "execute_result"
    }
   ],
   "source": [
    "df = pd.concat(df_list, ignore_index=True)\n",
    "df"
   ]
  },
  {
   "cell_type": "code",
   "execution_count": 56,
   "metadata": {},
   "outputs": [
    {
     "data": {
      "text/html": [
       "<div>\n",
       "<style scoped>\n",
       "    .dataframe tbody tr th:only-of-type {\n",
       "        vertical-align: middle;\n",
       "    }\n",
       "\n",
       "    .dataframe tbody tr th {\n",
       "        vertical-align: top;\n",
       "    }\n",
       "\n",
       "    .dataframe thead th {\n",
       "        text-align: right;\n",
       "    }\n",
       "</style>\n",
       "<table border=\"1\" class=\"dataframe\">\n",
       "  <thead>\n",
       "    <tr style=\"text-align: right;\">\n",
       "      <th></th>\n",
       "      <th>Precision</th>\n",
       "      <th>Recall</th>\n",
       "      <th>F1 Score</th>\n",
       "      <th>False Negative Rate</th>\n",
       "      <th>TP</th>\n",
       "      <th>FN</th>\n",
       "      <th>FP</th>\n",
       "      <th>Semantic Similarity</th>\n",
       "    </tr>\n",
       "  </thead>\n",
       "  <tbody>\n",
       "    <tr>\n",
       "      <th>0</th>\n",
       "      <td>0.083333</td>\n",
       "      <td>0.333333</td>\n",
       "      <td>0.133333</td>\n",
       "      <td>0.666667</td>\n",
       "      <td>1</td>\n",
       "      <td>2</td>\n",
       "      <td>11</td>\n",
       "      <td>0.311564</td>\n",
       "    </tr>\n",
       "    <tr>\n",
       "      <th>1</th>\n",
       "      <td>0.785714</td>\n",
       "      <td>0.611111</td>\n",
       "      <td>0.687500</td>\n",
       "      <td>0.388889</td>\n",
       "      <td>11</td>\n",
       "      <td>7</td>\n",
       "      <td>3</td>\n",
       "      <td>0.707158</td>\n",
       "    </tr>\n",
       "    <tr>\n",
       "      <th>2</th>\n",
       "      <td>0.250000</td>\n",
       "      <td>0.500000</td>\n",
       "      <td>0.333333</td>\n",
       "      <td>0.500000</td>\n",
       "      <td>2</td>\n",
       "      <td>2</td>\n",
       "      <td>6</td>\n",
       "      <td>0.605369</td>\n",
       "    </tr>\n",
       "    <tr>\n",
       "      <th>3</th>\n",
       "      <td>0.157895</td>\n",
       "      <td>1.000000</td>\n",
       "      <td>0.272727</td>\n",
       "      <td>0.000000</td>\n",
       "      <td>3</td>\n",
       "      <td>0</td>\n",
       "      <td>16</td>\n",
       "      <td>0.558117</td>\n",
       "    </tr>\n",
       "    <tr>\n",
       "      <th>4</th>\n",
       "      <td>0.000000</td>\n",
       "      <td>0.000000</td>\n",
       "      <td>0.000000</td>\n",
       "      <td>1.000000</td>\n",
       "      <td>0</td>\n",
       "      <td>4</td>\n",
       "      <td>10</td>\n",
       "      <td>0.194657</td>\n",
       "    </tr>\n",
       "    <tr>\n",
       "      <th>5</th>\n",
       "      <td>0.100000</td>\n",
       "      <td>0.250000</td>\n",
       "      <td>0.142857</td>\n",
       "      <td>0.750000</td>\n",
       "      <td>1</td>\n",
       "      <td>3</td>\n",
       "      <td>9</td>\n",
       "      <td>0.524587</td>\n",
       "    </tr>\n",
       "    <tr>\n",
       "      <th>6</th>\n",
       "      <td>0.076923</td>\n",
       "      <td>0.071429</td>\n",
       "      <td>0.074074</td>\n",
       "      <td>0.928571</td>\n",
       "      <td>1</td>\n",
       "      <td>13</td>\n",
       "      <td>12</td>\n",
       "      <td>0.769841</td>\n",
       "    </tr>\n",
       "    <tr>\n",
       "      <th>7</th>\n",
       "      <td>0.923077</td>\n",
       "      <td>0.923077</td>\n",
       "      <td>0.923077</td>\n",
       "      <td>0.076923</td>\n",
       "      <td>12</td>\n",
       "      <td>1</td>\n",
       "      <td>1</td>\n",
       "      <td>0.976824</td>\n",
       "    </tr>\n",
       "    <tr>\n",
       "      <th>8</th>\n",
       "      <td>0.230769</td>\n",
       "      <td>0.600000</td>\n",
       "      <td>0.333333</td>\n",
       "      <td>0.400000</td>\n",
       "      <td>6</td>\n",
       "      <td>4</td>\n",
       "      <td>20</td>\n",
       "      <td>0.872676</td>\n",
       "    </tr>\n",
       "    <tr>\n",
       "      <th>9</th>\n",
       "      <td>0.222222</td>\n",
       "      <td>0.500000</td>\n",
       "      <td>0.307692</td>\n",
       "      <td>0.500000</td>\n",
       "      <td>2</td>\n",
       "      <td>2</td>\n",
       "      <td>7</td>\n",
       "      <td>0.566965</td>\n",
       "    </tr>\n",
       "  </tbody>\n",
       "</table>\n",
       "</div>"
      ],
      "text/plain": [
       "   Precision    Recall  F1 Score  False Negative Rate  TP  FN  FP  \\\n",
       "0   0.083333  0.333333  0.133333             0.666667   1   2  11   \n",
       "1   0.785714  0.611111  0.687500             0.388889  11   7   3   \n",
       "2   0.250000  0.500000  0.333333             0.500000   2   2   6   \n",
       "3   0.157895  1.000000  0.272727             0.000000   3   0  16   \n",
       "4   0.000000  0.000000  0.000000             1.000000   0   4  10   \n",
       "5   0.100000  0.250000  0.142857             0.750000   1   3   9   \n",
       "6   0.076923  0.071429  0.074074             0.928571   1  13  12   \n",
       "7   0.923077  0.923077  0.923077             0.076923  12   1   1   \n",
       "8   0.230769  0.600000  0.333333             0.400000   6   4  20   \n",
       "9   0.222222  0.500000  0.307692             0.500000   2   2   7   \n",
       "\n",
       "   Semantic Similarity  \n",
       "0             0.311564  \n",
       "1             0.707158  \n",
       "2             0.605369  \n",
       "3             0.558117  \n",
       "4             0.194657  \n",
       "5             0.524587  \n",
       "6             0.769841  \n",
       "7             0.976824  \n",
       "8             0.872676  \n",
       "9             0.566965  "
      ]
     },
     "execution_count": 56,
     "metadata": {},
     "output_type": "execute_result"
    }
   ],
   "source": [
    "df = pd.concat(df_list, ignore_index=True)\n",
    "df"
   ]
  },
  {
   "cell_type": "markdown",
   "metadata": {},
   "source": [
    "## Visualization ##"
   ]
  },
  {
   "cell_type": "code",
   "execution_count": 75,
   "metadata": {},
   "outputs": [],
   "source": [
    "df_a_1 = pd.read_csv(\"Alibaba_1.csv\")\n",
    "df_s_1 = pd.read_csv(\"ST_1.csv\")\n",
    "df_a_3 = pd.read_csv(\"Alibaba_3.csv\")\n",
    "df_s_3 = pd.read_csv(\"ST_3.csv\")"
   ]
  },
  {
   "cell_type": "code",
   "execution_count": 85,
   "metadata": {},
   "outputs": [],
   "source": [
    "def load_categories(file_dir = \"categorized_questions.txt\"):\n",
    "    with open(file_dir, 'r') as f:\n",
    "        data  = f.readlines()\n",
    "    \n",
    "    category = []\n",
    "    for row in data:\n",
    "        if \"Augment_Better\" in row or \"Augment_Required\" in row or \"LLM_Ready\" in row or \"Temporal_Sensitive\" in row:\n",
    "            category.append(row.strip())\n",
    "\n",
    "    return category"
   ]
  },
  {
   "cell_type": "code",
   "execution_count": 86,
   "metadata": {},
   "outputs": [],
   "source": [
    "categories = load_categories()"
   ]
  },
  {
   "cell_type": "code",
   "execution_count": 88,
   "metadata": {},
   "outputs": [],
   "source": [
    "df_a_1[\"category\"] = categories\n",
    "df_a_3[\"category\"] = categories\n",
    "df_s_1[\"category\"] = categories\n",
    "df_s_3[\"category\"] = categories\n",
    "\n",
    "df = pd.concat([df_a_1, df_a_3, df_s_1, df_s_3], ignore_index=True)\n"
   ]
  },
  {
   "cell_type": "code",
   "execution_count": 89,
   "metadata": {},
   "outputs": [
    {
     "data": {
      "text/html": [
       "<div>\n",
       "<style scoped>\n",
       "    .dataframe tbody tr th:only-of-type {\n",
       "        vertical-align: middle;\n",
       "    }\n",
       "\n",
       "    .dataframe tbody tr th {\n",
       "        vertical-align: top;\n",
       "    }\n",
       "\n",
       "    .dataframe thead th {\n",
       "        text-align: right;\n",
       "    }\n",
       "</style>\n",
       "<table border=\"1\" class=\"dataframe\">\n",
       "  <thead>\n",
       "    <tr style=\"text-align: right;\">\n",
       "      <th></th>\n",
       "      <th>Unnamed: 0</th>\n",
       "      <th>Precision</th>\n",
       "      <th>Recall</th>\n",
       "      <th>F1 Score</th>\n",
       "      <th>False Negative Rate</th>\n",
       "      <th>TP</th>\n",
       "      <th>FN</th>\n",
       "      <th>FP</th>\n",
       "      <th>Semantic Similarity</th>\n",
       "      <th>Model</th>\n",
       "      <th>Top-k</th>\n",
       "      <th>category</th>\n",
       "    </tr>\n",
       "  </thead>\n",
       "  <tbody>\n",
       "    <tr>\n",
       "      <th>0</th>\n",
       "      <td>0</td>\n",
       "      <td>0.250000</td>\n",
       "      <td>0.333333</td>\n",
       "      <td>0.285714</td>\n",
       "      <td>0.666667</td>\n",
       "      <td>1</td>\n",
       "      <td>2</td>\n",
       "      <td>3</td>\n",
       "      <td>0.419860</td>\n",
       "      <td>Alibaba</td>\n",
       "      <td>1</td>\n",
       "      <td>Augment_Better</td>\n",
       "    </tr>\n",
       "    <tr>\n",
       "      <th>1</th>\n",
       "      <td>1</td>\n",
       "      <td>0.666667</td>\n",
       "      <td>0.555556</td>\n",
       "      <td>0.606061</td>\n",
       "      <td>0.444444</td>\n",
       "      <td>10</td>\n",
       "      <td>8</td>\n",
       "      <td>5</td>\n",
       "      <td>0.691959</td>\n",
       "      <td>Alibaba</td>\n",
       "      <td>1</td>\n",
       "      <td>Augment_Better</td>\n",
       "    </tr>\n",
       "    <tr>\n",
       "      <th>2</th>\n",
       "      <td>2</td>\n",
       "      <td>0.500000</td>\n",
       "      <td>0.750000</td>\n",
       "      <td>0.600000</td>\n",
       "      <td>0.250000</td>\n",
       "      <td>3</td>\n",
       "      <td>1</td>\n",
       "      <td>3</td>\n",
       "      <td>0.667408</td>\n",
       "      <td>Alibaba</td>\n",
       "      <td>1</td>\n",
       "      <td>LLM_Ready</td>\n",
       "    </tr>\n",
       "    <tr>\n",
       "      <th>3</th>\n",
       "      <td>3</td>\n",
       "      <td>0.600000</td>\n",
       "      <td>1.000000</td>\n",
       "      <td>0.750000</td>\n",
       "      <td>0.000000</td>\n",
       "      <td>3</td>\n",
       "      <td>0</td>\n",
       "      <td>2</td>\n",
       "      <td>0.719763</td>\n",
       "      <td>Alibaba</td>\n",
       "      <td>1</td>\n",
       "      <td>Augment_Required</td>\n",
       "    </tr>\n",
       "    <tr>\n",
       "      <th>4</th>\n",
       "      <td>4</td>\n",
       "      <td>0.000000</td>\n",
       "      <td>0.000000</td>\n",
       "      <td>0.000000</td>\n",
       "      <td>1.000000</td>\n",
       "      <td>0</td>\n",
       "      <td>4</td>\n",
       "      <td>10</td>\n",
       "      <td>0.194657</td>\n",
       "      <td>Alibaba</td>\n",
       "      <td>1</td>\n",
       "      <td>Augment_Better</td>\n",
       "    </tr>\n",
       "  </tbody>\n",
       "</table>\n",
       "</div>"
      ],
      "text/plain": [
       "   Unnamed: 0  Precision    Recall  F1 Score  False Negative Rate  TP  FN  FP  \\\n",
       "0           0   0.250000  0.333333  0.285714             0.666667   1   2   3   \n",
       "1           1   0.666667  0.555556  0.606061             0.444444  10   8   5   \n",
       "2           2   0.500000  0.750000  0.600000             0.250000   3   1   3   \n",
       "3           3   0.600000  1.000000  0.750000             0.000000   3   0   2   \n",
       "4           4   0.000000  0.000000  0.000000             1.000000   0   4  10   \n",
       "\n",
       "   Semantic Similarity    Model  Top-k          category  \n",
       "0             0.419860  Alibaba      1    Augment_Better  \n",
       "1             0.691959  Alibaba      1    Augment_Better  \n",
       "2             0.667408  Alibaba      1         LLM_Ready  \n",
       "3             0.719763  Alibaba      1  Augment_Required  \n",
       "4             0.194657  Alibaba      1    Augment_Better  "
      ]
     },
     "execution_count": 89,
     "metadata": {},
     "output_type": "execute_result"
    }
   ],
   "source": [
    "df.head()"
   ]
  },
  {
   "cell_type": "code",
   "execution_count": 91,
   "metadata": {},
   "outputs": [
    {
     "data": {
      "text/html": [
       "<div>\n",
       "<style scoped>\n",
       "    .dataframe tbody tr th:only-of-type {\n",
       "        vertical-align: middle;\n",
       "    }\n",
       "\n",
       "    .dataframe tbody tr th {\n",
       "        vertical-align: top;\n",
       "    }\n",
       "\n",
       "    .dataframe thead th {\n",
       "        text-align: right;\n",
       "    }\n",
       "</style>\n",
       "<table border=\"1\" class=\"dataframe\">\n",
       "  <thead>\n",
       "    <tr style=\"text-align: right;\">\n",
       "      <th></th>\n",
       "      <th>Model</th>\n",
       "      <th>Top-k</th>\n",
       "      <th>Precision</th>\n",
       "      <th>Recall</th>\n",
       "      <th>F1 Score</th>\n",
       "      <th>False Negative Rate</th>\n",
       "      <th>Semantic Similarity</th>\n",
       "    </tr>\n",
       "  </thead>\n",
       "  <tbody>\n",
       "    <tr>\n",
       "      <th>0</th>\n",
       "      <td>Alibaba</td>\n",
       "      <td>1</td>\n",
       "      <td>0.256307</td>\n",
       "      <td>0.658284</td>\n",
       "      <td>0.335221</td>\n",
       "      <td>0.341716</td>\n",
       "      <td>0.482806</td>\n",
       "    </tr>\n",
       "    <tr>\n",
       "      <th>1</th>\n",
       "      <td>Alibaba</td>\n",
       "      <td>3</td>\n",
       "      <td>0.250710</td>\n",
       "      <td>0.694014</td>\n",
       "      <td>0.336966</td>\n",
       "      <td>0.305986</td>\n",
       "      <td>0.492929</td>\n",
       "    </tr>\n",
       "    <tr>\n",
       "      <th>2</th>\n",
       "      <td>ST</td>\n",
       "      <td>1</td>\n",
       "      <td>0.248454</td>\n",
       "      <td>0.663260</td>\n",
       "      <td>0.328536</td>\n",
       "      <td>0.336740</td>\n",
       "      <td>0.481117</td>\n",
       "    </tr>\n",
       "    <tr>\n",
       "      <th>3</th>\n",
       "      <td>ST</td>\n",
       "      <td>3</td>\n",
       "      <td>0.250943</td>\n",
       "      <td>0.688307</td>\n",
       "      <td>0.337264</td>\n",
       "      <td>0.311693</td>\n",
       "      <td>0.487553</td>\n",
       "    </tr>\n",
       "  </tbody>\n",
       "</table>\n",
       "</div>"
      ],
      "text/plain": [
       "     Model  Top-k  Precision    Recall  F1 Score  False Negative Rate  \\\n",
       "0  Alibaba      1   0.256307  0.658284  0.335221             0.341716   \n",
       "1  Alibaba      3   0.250710  0.694014  0.336966             0.305986   \n",
       "2       ST      1   0.248454  0.663260  0.328536             0.336740   \n",
       "3       ST      3   0.250943  0.688307  0.337264             0.311693   \n",
       "\n",
       "   Semantic Similarity  \n",
       "0             0.482806  \n",
       "1             0.492929  \n",
       "2             0.481117  \n",
       "3             0.487553  "
      ]
     },
     "execution_count": 91,
     "metadata": {},
     "output_type": "execute_result"
    }
   ],
   "source": [
    "grouped_df_model = df.groupby(['Model', 'Top-k'])[['Precision', \"Recall\", \"F1 Score\", \"False Negative Rate\", \"Semantic Similarity\"]].mean().reset_index()\n",
    "grouped_df_model"
   ]
  },
  {
   "cell_type": "code",
   "execution_count": 108,
   "metadata": {},
   "outputs": [
    {
     "name": "stderr",
     "output_type": "stream",
     "text": [
      "/var/folders/8z/p7vsmby10hscrk6290gzfnnr0000gn/T/ipykernel_73681/1333548847.py:11: FutureWarning: \n",
      "\n",
      "The `ci` parameter is deprecated. Use `errorbar=None` for the same effect.\n",
      "\n",
      "  sns.lineplot(\n",
      "/var/folders/8z/p7vsmby10hscrk6290gzfnnr0000gn/T/ipykernel_73681/1333548847.py:11: FutureWarning: \n",
      "\n",
      "The `ci` parameter is deprecated. Use `errorbar=None` for the same effect.\n",
      "\n",
      "  sns.lineplot(\n",
      "/var/folders/8z/p7vsmby10hscrk6290gzfnnr0000gn/T/ipykernel_73681/1333548847.py:11: FutureWarning: \n",
      "\n",
      "The `ci` parameter is deprecated. Use `errorbar=None` for the same effect.\n",
      "\n",
      "  sns.lineplot(\n",
      "/var/folders/8z/p7vsmby10hscrk6290gzfnnr0000gn/T/ipykernel_73681/1333548847.py:11: FutureWarning: \n",
      "\n",
      "The `ci` parameter is deprecated. Use `errorbar=None` for the same effect.\n",
      "\n",
      "  sns.lineplot(\n",
      "/var/folders/8z/p7vsmby10hscrk6290gzfnnr0000gn/T/ipykernel_73681/1333548847.py:11: FutureWarning: \n",
      "\n",
      "The `ci` parameter is deprecated. Use `errorbar=None` for the same effect.\n",
      "\n",
      "  sns.lineplot(\n",
      "/var/folders/8z/p7vsmby10hscrk6290gzfnnr0000gn/T/ipykernel_73681/1333548847.py:22: UserWarning: This figure was using a layout engine that is incompatible with subplots_adjust and/or tight_layout; not calling subplots_adjust.\n",
      "  plt.subplots_adjust(hspace=0.5, wspace=0.3)  # Increase vertical and horizontal spacing\n",
      "/var/folders/8z/p7vsmby10hscrk6290gzfnnr0000gn/T/ipykernel_73681/1333548847.py:23: UserWarning: The figure layout has changed to tight\n",
      "  plt.tight_layout()\n"
     ]
    },
    {
     "data": {
      "image/png": "[encoded data removed]",
      "text/plain": [
       "<Figure size 1200x800 with 6 Axes>"
      ]
     },
     "metadata": {},
     "output_type": "display_data"
    }
   ],
   "source": [
    "import matplotlib.pyplot as plt\n",
    "import seaborn as sns\n",
    "\n",
    "metrics = [\"Precision\", 'Recall', 'F1 Score', 'False Negative Rate', 'Semantic Similarity']\n",
    "\n",
    "fig, axes = plt.subplots(2, 3, figsize=(12, 8),  sharex=True, constrained_layout=True)\n",
    "\n",
    "axes = axes.flatten()\n",
    "\n",
    "for i, metric in enumerate(metrics):\n",
    "    sns.lineplot(\n",
    "        data=df, x='Top-k', y=metric, hue='Model', marker='o', ax=axes[i], ci=None\n",
    "    )\n",
    "    axes[i].set_title(metric)\n",
    "    axes[i].set_ylabel(\"Value\")\n",
    "    axes[i].set_xlabel(\"Top-k\")\n",
    "\n",
    "    axes[i].grid(True)\n",
    "    \n",
    "axes[-1].set_visible(False)\n",
    "\n",
    "plt.subplots_adjust(hspace=0.5, wspace=0.3)  # Increase vertical and horizontal spacing\n",
    "plt.tight_layout() \n",
    "plt.show()"
   ]
  },
  {
   "cell_type": "code",
   "execution_count": 104,
   "metadata": {},
   "outputs": [
    {
     "data": {
      "text/html": [
       "<div>\n",
       "<style scoped>\n",
       "    .dataframe tbody tr th:only-of-type {\n",
       "        vertical-align: middle;\n",
       "    }\n",
       "\n",
       "    .dataframe tbody tr th {\n",
       "        vertical-align: top;\n",
       "    }\n",
       "\n",
       "    .dataframe thead th {\n",
       "        text-align: right;\n",
       "    }\n",
       "</style>\n",
       "<table border=\"1\" class=\"dataframe\">\n",
       "  <thead>\n",
       "    <tr style=\"text-align: right;\">\n",
       "      <th></th>\n",
       "      <th>category</th>\n",
       "      <th>Precision</th>\n",
       "      <th>Recall</th>\n",
       "      <th>F1 Score</th>\n",
       "      <th>False Negative Rate</th>\n",
       "      <th>Semantic Similarity</th>\n",
       "    </tr>\n",
       "  </thead>\n",
       "  <tbody>\n",
       "    <tr>\n",
       "      <th>0</th>\n",
       "      <td>Augment_Better</td>\n",
       "      <td>0.340502</td>\n",
       "      <td>0.705291</td>\n",
       "      <td>0.422443</td>\n",
       "      <td>0.294709</td>\n",
       "      <td>0.576602</td>\n",
       "    </tr>\n",
       "    <tr>\n",
       "      <th>1</th>\n",
       "      <td>Augment_Required</td>\n",
       "      <td>0.241225</td>\n",
       "      <td>0.560715</td>\n",
       "      <td>0.311222</td>\n",
       "      <td>0.439285</td>\n",
       "      <td>0.458609</td>\n",
       "    </tr>\n",
       "    <tr>\n",
       "      <th>2</th>\n",
       "      <td>LLM_Ready</td>\n",
       "      <td>0.189542</td>\n",
       "      <td>0.799094</td>\n",
       "      <td>0.283966</td>\n",
       "      <td>0.200906</td>\n",
       "      <td>0.449567</td>\n",
       "    </tr>\n",
       "    <tr>\n",
       "      <th>3</th>\n",
       "      <td>Temporal_Sensitive</td>\n",
       "      <td>0.304004</td>\n",
       "      <td>0.734018</td>\n",
       "      <td>0.406808</td>\n",
       "      <td>0.265982</td>\n",
       "      <td>0.532379</td>\n",
       "    </tr>\n",
       "  </tbody>\n",
       "</table>\n",
       "</div>"
      ],
      "text/plain": [
       "             category  Precision    Recall  F1 Score  False Negative Rate  \\\n",
       "0      Augment_Better   0.340502  0.705291  0.422443             0.294709   \n",
       "1    Augment_Required   0.241225  0.560715  0.311222             0.439285   \n",
       "2           LLM_Ready   0.189542  0.799094  0.283966             0.200906   \n",
       "3  Temporal_Sensitive   0.304004  0.734018  0.406808             0.265982   \n",
       "\n",
       "   Semantic Similarity  \n",
       "0             0.576602  \n",
       "1             0.458609  \n",
       "2             0.449567  \n",
       "3             0.532379  "
      ]
     },
     "execution_count": 104,
     "metadata": {},
     "output_type": "execute_result"
    }
   ],
   "source": [
    "grouped_df_category = df.groupby(['category'])[['Precision', \"Recall\", \"F1 Score\", \"False Negative Rate\", \"Semantic Similarity\"]].mean().reset_index()\n",
    "grouped_df_category"
   ]
  },
  {
   "cell_type": "markdown",
   "metadata": {},
   "source": [
    "## Generate Answer ##"
   ]
  },
  {
   "cell_type": "code",
   "execution_count": 113,
   "metadata": {},
   "outputs": [
    {
     "data": {
      "text/plain": [
       "575"
      ]
     },
     "execution_count": 113,
     "metadata": {},
     "output_type": "execute_result"
    }
   ],
   "source": [
    "import csv\n",
    "\n",
    "with open(\"test_set.csv\", newline=\"\") as csvfile:\n",
    "    reader = csv.reader(csvfile)\n",
    "    questions = [row for row in reader]\n",
    "\n",
    "len(questions)"
   ]
  },
  {
   "cell_type": "code",
   "execution_count": null,
   "metadata": {},
   "outputs": [],
   "source": [
    "answers = {}\n",
    "count = 1\n",
    "for q in tqdm(questions):\n",
    "    a = get_answer(q[0])\n",
    "\n",
    "    answers[str(count)] = a\n",
    "\n",
    "    count += 1"
   ]
  },
  {
   "cell_type": "code",
   "execution_count": 120,
   "metadata": {},
   "outputs": [],
   "source": [
    "import json\n",
    "\n",
    "with open(\"system_output.json\", \"w\") as json_file:\n",
    "    json.dump(answers, json_file, indent=4)"
   ]
  },
  {
   "cell_type": "code",
   "execution_count": 121,
   "metadata": {},
   "outputs": [
    {
     "data": {
      "text/plain": [
       "575"
      ]
     },
     "execution_count": 121,
     "metadata": {},
     "output_type": "execute_result"
    }
   ],
   "source": [
    "len(answers)"
   ]
  },
  {
   "cell_type": "code",
   "execution_count": 123,
   "metadata": {},
   "outputs": [
    {
     "name": "stderr",
     "output_type": "stream",
     "text": [
      "  0%|          | 0/4 [00:00<?, ?it/s]"
     ]
    },
    {
     "name": "stdout",
     "output_type": "stream",
     "text": [
      "RAG Response\n",
      "{'query': 'W', 'context': '**Event: Wednesday Morning Walk**\\n32822: When does the Wednesday Morning Walk event occur?\\nA: Wednesdays.\\n\\n31535: Which song by Wiz Khalifa is associated with the Pittsburgh Steelers?\\nA: \"Black and Yellow\"\\n\\n25503: What is the name of the park with an overlook mentioned in the text?\\nA: West End Overlook\\n\\n33995: Who hit the walk-off home run to win the 1960 World Series for the Pirates?\\nA: Bill Mazeroski hit the walk-off home run.\\n\\n31476: What song by Wiz Khalifa is part of the Steelers home game experience?\\nA: \"Black and Yellow.\"\\n\\n32825: What is the description of the Wednesday Morning Walk event?\\nA: It is a naturalist-led walk that takes place rain or shine.\\n\\n29404: Which Pittsburgh-based artist had a Billboard Hot 100 number one hit with \"Black and Yellow\" in 2011?\\nA: Wiz Khalifa.\\n\\n29558: Which Pittsburgh-based musician had a hit with \"Black and Yellow\" reaching number one on the Billboard Hot 100 in 2011?\\nA: Wiz Khalifa.\\n\\n32734: When does the \"Wednesday Morning Walk\" event take place?\\nA: Wednesdays\\n\\n31253: What was the result of the Steelers\\' Wild Card game against the Miami Dolphins on January 8, 2017?\\nA: Steelers won.'}\n"
     ]
    },
    {
     "name": "stderr",
     "output_type": "stream",
     "text": [
      " 25%|██▌       | 1/4 [00:30<01:31, 30.48s/it]"
     ]
    },
    {
     "name": "stdout",
     "output_type": "stream",
     "text": [
      "RAG Response\n",
      "{'query': 'W', 'context': '**Event: Wednesday Morning Walk**\\n32822: When does the Wednesday Morning Walk event occur?\\nA: Wednesdays.\\n\\n31535: Which song by Wiz Khalifa is associated with the Pittsburgh Steelers?\\nA: \"Black and Yellow\"\\n\\n25503: What is the name of the park with an overlook mentioned in the text?\\nA: West End Overlook\\n\\n33995: Who hit the walk-off home run to win the 1960 World Series for the Pirates?\\nA: Bill Mazeroski hit the walk-off home run.\\n\\n31476: What song by Wiz Khalifa is part of the Steelers home game experience?\\nA: \"Black and Yellow.\"\\n\\n32825: What is the description of the Wednesday Morning Walk event?\\nA: It is a naturalist-led walk that takes place rain or shine.\\n\\n29404: Which Pittsburgh-based artist had a Billboard Hot 100 number one hit with \"Black and Yellow\" in 2011?\\nA: Wiz Khalifa.\\n\\n29558: Which Pittsburgh-based musician had a hit with \"Black and Yellow\" reaching number one on the Billboard Hot 100 in 2011?\\nA: Wiz Khalifa.\\n\\n32734: When does the \"Wednesday Morning Walk\" event take place?\\nA: Wednesdays\\n\\n31253: What was the result of the Steelers\\' Wild Card game against the Miami Dolphins on January 8, 2017?\\nA: Steelers won.'}\n"
     ]
    },
    {
     "name": "stderr",
     "output_type": "stream",
     "text": [
      " 50%|█████     | 2/4 [00:33<00:28, 14.07s/it]"
     ]
    },
    {
     "name": "stdout",
     "output_type": "stream",
     "text": [
      "RAG Response\n",
      "{'query': 'A', 'context': \"A: $100.\\n\\nA: $100.\\n\\n26733: Who founded the Mellon Institute of Industrial Research?\\nA: Andrew Mellon and Richard B. Mellon\\n\\n785: Who founded Carnegie Mellon University?\\nA: Andrew Carnegie, Andrew Mellon, and Richard B. Mellon.\\n\\n686: Who founded Carnegie Mellon University?\\nA: Andrew Carnegie, Andrew Mellon, and Richard B. Mellon\\n\\n1009: Who were the founders of Carnegie Mellon University?\\nA: Andrew Carnegie, Andrew Mellon, and Richard B. Mellon\\n\\n26753: Who founded the Mellon Institute of Industrial Research?\\nA: Andrew Mellon and Richard B. Mellon\\n\\n33391: Where does Pittsburgh's Best St. Patrick's Day Weekend Bar Crawl take place?\\nA: Josh D Pittsburgh, Pittsburgh Oakland.\\n\\n895: Who founded Carnegie Mellon University?\\nA: Andrew Carnegie, Andrew Mellon, and Richard B. Mellon.\\n\\n36114: Where will the Befriending the Forest event take place?\\nA: Hays Woods Park, Agnew Rd, Baldwin Mt. Oliver.\"}\n"
     ]
    },
    {
     "name": "stderr",
     "output_type": "stream",
     "text": [
      " 75%|███████▌  | 3/4 [00:43<00:12, 12.40s/it]"
     ]
    },
    {
     "name": "stdout",
     "output_type": "stream",
     "text": [
      "RAG Response\n",
      "{'query': '\"', 'context': 'A: $100.\\n\\nA: $100.\\n\\nfiled at this time. the incident occurred on january 31, 2018. police are urging anyone involved or with information to come forward. ###\\n11151: Who is handling the investigation of the officer-involved shooting?\\nA: The investigation is being handled by the Allegheny County Police.\\n\\n19961: What incident led to a police officer firing a shot on July 15, 2018?\\nA: A police officer fired a shot during an incident involving a suspect armed with a handgun after a man was pistol-whipped on the 2400 block of Charcot Street.\\n\\n13510: What type of crimes are excluded from the data set in the new crime data portal?\\nA: Violent crimes of a sexual nature are excluded.\\n\\n37996: How much are tickets for the \"B!tch Please\" event?\\nA: $15.00\\n\\n5606: How can participants and mentors register for the late-night basketball initiative?\\nA: They can register through a link provided in the text: https://forms.office.com/pages/responsepage.aspx?i...\\n\\n14830: When and where will the Pittsburgh Bureau of Police hold graduation ceremonies for recruits and K9s?\\nA: November 16, 2018; 9 a.m. at the Pittsburgh Police K9 Training Academy for K9s, and 2 p.m. at the Community College of Allegheny County for recruits.\\n\\n23256: What is the Zoom meeting link for the Public Art & Civic Design Commission?\\nA: https://us02web.zoom.us/j/85414433221\\n\\n18506: What statement did the family of Officer Calvin Hall release on July 17, 2020?\\nA: The family expressed ongoing mourning for Officer Hall, who died from injuries on July 17, 2019, and thanked the community for their support.'}\n"
     ]
    },
    {
     "name": "stderr",
     "output_type": "stream",
     "text": [
      "100%|██████████| 4/4 [00:56<00:00, 14.10s/it]\n"
     ]
    }
   ],
   "source": [
    "miss_info_questions = ['Which festival celebrates Latin-American culture in Pittsburgh?',\n",
    "                       'What public art project by the Pittsburgh Cultural Trust is named after a sudden meteorological event?',\n",
    "                       \"According to the Pittsburgh City Paper's Best Of PGH 2024, where can you find the best African food?\",\n",
    "                       '\"Where is Sheku Kanneh-Mason playing on March 22, 2025?\"']\n",
    "answers_miss_info = []\n",
    "for q in tqdm(miss_info_questions):\n",
    "    a = get_answer(q[0])\n",
    "    answers_miss_info.append(a)"
   ]
  },
  {
   "cell_type": "code",
   "execution_count": 125,
   "metadata": {},
   "outputs": [],
   "source": [
    "missing_info_qs = []\n",
    "\n",
    "\n",
    "for key in answers.keys():\n",
    "    if \"I don't have enough information\" in answers[key] or \"not able\" in answers[key]:\n",
    "        missing_info_qs.append(questions[int(key)-1])"
   ]
  },
  {
   "cell_type": "code",
   "execution_count": 127,
   "metadata": {},
   "outputs": [
    {
     "data": {
      "text/plain": [
       "['Which festival celebrates Latin-American culture in Pittsburgh?',\n",
       " 'Whose work does the Uncommon Perfection event at CMU highlight?',\n",
       " 'How many suites does PNC Park have?',\n",
       " 'What section of the Payroll Tax regulations defines taxpayer responsibilities?',\n",
       " 'Which event promotes literacy through a food fair in Pittsburgh?',\n",
       " \"According to the Pittsburgh City Paper's Best Of PGH 2024, where can you find the best African food?\",\n",
       " 'Who is the Vice President of Ticket Operations for the Pittsburgh Steelers?',\n",
       " 'What ballet performance will be at the Byham Theater on May 7, 2025?',\n",
       " \"According to the Pittsburgh City Paper's Best Of PGH 2024, where can you find the best BBQ?\",\n",
       " 'How many home run balls have exited PNC Park?',\n",
       " 'What event hosts a celebrity bocce challenge in Pittsburgh?',\n",
       " 'What artist is coming to the Event Center at Rivers Casino Pittsburgh on March 28, 2025?',\n",
       " 'Which Pittsburgh event includes workshops and educational demonstrations?',\n",
       " 'Which Pittsburgh event is scheduled for July 18-21, 2024?',\n",
       " 'Which GRAMMY nominee is featured in Child of God Tour Part 2?',\n",
       " 'Which concert at Heinz Hall on April 7, 2025, celebrates boy bands?',\n",
       " 'Which festival will be celebrated in Latrobe, PA in 2025?',\n",
       " 'Which food event celebrates Jewish and Israeli food culture in Pittsburgh?',\n",
       " 'What is the price for a single VIP Experience at Little Italy Days?',\n",
       " 'Who is the concertmaster of the Pittsburgh Symphony Orchestra?',\n",
       " 'Which organizations benefit from the proceeds of the Pittsburgh Taco Festival?',\n",
       " 'Who donated to the City of Pittsburgh for the construction of the Phipps Conservatory and Botanical Gardens?',\n",
       " \"What memoir is CMU's Center for Student Diversity & Inclusion discussing on March 24, 2025?\",\n",
       " 'Who is the director of the Carnegie Mellon Guitar Ensemble on April 16, 2025?',\n",
       " 'When does Pittsburgh Moon Markets Butler City take place?',\n",
       " 'What types of contests are included in the Olympickle Games?',\n",
       " 'What special activity does the Warhol Museum offer every Friday through Sunday for kids and families?',\n",
       " 'What comedian and actor is coming to Pittsburgh improv on March 26, 2025?',\n",
       " 'Who wrote the CMU drama \"The Inseparables\"?',\n",
       " 'Who will be moderating the CMU event the CMU event \"Spaces of Treblinka\"?',\n",
       " 'What event signifies the start of NFL season for the Steelers?',\n",
       " 'What story-based activity will be held at the museum on March 15, 2025, for kids and families?',\n",
       " 'When was the CMU Buggy Alumni Association founded?',\n",
       " 'Who is the current leader of the Pittsburgh Opera?',\n",
       " 'When is One Big Table scheduled in 2024?',\n",
       " 'What CMU drama will be hosted on April 23, 2025?',\n",
       " 'When is the Puzzling Adventures Scavenger Hunt happening?',\n",
       " 'What position does Tarrik Brock coach for the Pittsburgh Pirates?',\n",
       " 'What family-friendly concert will be held at Heinz Hall on April 5, 2025?',\n",
       " 'What are the dates for Little Italy Days in 2024?',\n",
       " \"What are PNC Park's ticket office hours on weekdays?\",\n",
       " 'When do doors open before performances for concerts at the Pittsburgh Symphony for classical concerts?',\n",
       " 'What event will take place at the Bitz Opera Factory at 9:00 PM on April 29, 2025?',\n",
       " 'When does Steelers training camp usually start?',\n",
       " 'Who led the Pittsburgh Pirates to three straight pennants at the turn of the 20th century?',\n",
       " 'How many people voted in the Pittsburgh City Paper’s Best Of PGH Readers’ Poll?',\n",
       " 'Until what date does the exhibit \"The Stories We Keep: Conserving Objects from Ancient Egypt\" run at CMNH?',\n",
       " 'Who is the assistant librarian of the Pittsburgh Symphony Orchestra',\n",
       " 'Which exhibition at 820 Gallery showcases the work of Melike Konur?',\n",
       " 'What is the official email address for the Pittsburgh Taco Festival?',\n",
       " 'What food will be provided at Playtest Night at CMU on March 25, 2025?',\n",
       " 'Which document governs the collection of unpaid taxes in Pittsburgh?',\n",
       " 'What type of objects does the new exhibit \"The Stories We Keep\" at the CMNH focus on?',\n",
       " 'What comedy show will be at the Byham Theater on May 9, 2025?',\n",
       " 'What skills can you learn at the Fix-it Fair at CMU on March 20, 2025?',\n",
       " 'What is the central theme of the Big Nosh Festival?',\n",
       " 'What year did the Pittsburgh Zoo & PPG Aquarium originally open?',\n",
       " 'What is the title of the book to be released by M. C. Benner Dixon on April 12, 2025?',\n",
       " 'When is the Great American Banana Split Celebration in 2025?',\n",
       " 'What type of guide is available for potential visitors to help them plan a trip to Fallingwater?',\n",
       " 'Which city contributes financially and supports the Banana Split Celebration?',\n",
       " 'Who is performing at the August Wilson Center on March 29, 2025?',\n",
       " 'When is the South Side Soup Contest in 2024?',\n",
       " \"Who is the website provider for the Pittsburgh Taco Festival's website?\",\n",
       " 'Where is Jeremy Piven hosting a show on March 21, 2025?',\n",
       " 'Which activity at the Carnegie Lab will be held every Friday through May 9, 2025, for kids and families?',\n",
       " \"According to the Pittsburgh City Paper's Best Of PGH 2024, who is the best cartoon illustrator?\",\n",
       " 'Who is the principal bassist of the Pittsburgh Symphony Orchestra',\n",
       " 'Which section of the budget covers salary tables?',\n",
       " 'When is the Pittsburgh Youth for Climate Action Summit?',\n",
       " 'What is Bicycle Heaven recognized as worldwide?',\n",
       " 'What are the gallery hours for The Galleries at the Pittsburgh Cultural Trust?',\n",
       " 'What 21+ event will be at the Science Center on March 14, 2025?',\n",
       " 'What is the featured food in the Banana Split Celebration?',\n",
       " 'What marks the 32nd Annual History Makers Award Dinner on June 5?',\n",
       " 'What social media platforms are mentioned for the Pittsburgh Penguins?',\n",
       " 'When does Pittsburgh PulpFest start?',\n",
       " 'What is the suggested time to arrive before a show at the Pittsburgh Opera?',\n",
       " 'Where is booth located at the Spring Carnival?',\n",
       " 'What year did Pittsburgh officially change the spelling of its name back to include the \"h\" at the end?',\n",
       " 'What is the entry fee for the Little Italy Bocce Tournament?',\n",
       " 'What is the theme of the Banana Split Celebration?',\n",
       " 'Which regulation governs installment payment plans for deficiencies?',\n",
       " 'What major award is mentioned that the University of Pittsburgh Medical Center has consistently earned since 2000?',\n",
       " 'Where can one find Steelers Bars as part of a promotion?',\n",
       " 'Where are the 2025 NAIGC National Championships held? ',\n",
       " 'What date is the South Side Soup Contest in 2024?',\n",
       " 'How many original fossils are displayed in the \"Dinosaurs in Their Time\" exhibit at CMNH?',\n",
       " \"What is CMU's largest student-run programming board?\",\n",
       " 'What is the cost of watching Peter Pan the Musical?',\n",
       " 'Which section of the budget details the debt service?',\n",
       " 'Who is the current music director of the Pittsburgh Opera?',\n",
       " 'Which festival is designed for vegetarian and vegan food lovers?',\n",
       " 'Who was the inventor of the banana split?',\n",
       " 'When did the CMU Alumni Awards begin?',\n",
       " 'What musician is coming to City Winery Pittsburgh on March 22, 2025?',\n",
       " \"What is the name of Pittsburgh's first ginger beer brewery?\",\n",
       " 'What type of seating map is available for PNC Park?',\n",
       " 'When was the Pittsburgh Cultural Trust founded?',\n",
       " 'Who succeeded Chuck Noll as head coach of the Steelers in 2007?',\n",
       " \"How can fans feature their game day rituals or traditions on the Steelers' website?\",\n",
       " 'Where is the Big Nosh Jewish Food Festival taking place?',\n",
       " 'What is the date and time of the game between Chicago Blackhawks @ Pittsburgh Penguins?',\n",
       " 'How long does the Beers in the Burgh Walking Tour last?',\n",
       " 'Which organization produces Picklesburgh?',\n",
       " 'Which festival showcases 20+ international restaurants?',\n",
       " 'Which counties host major maple festivals near Pittsburgh?',\n",
       " \"Where is Chase Matthew's concert being hosted on March 28, 2025?\",\n",
       " 'Who is the artist featured in Soft Fire (Art Exhibition)?',\n",
       " 'What is featured in the Hillman Hall at CMNH?',\n",
       " 'Where will the Mac & Cheese Festival be held?',\n",
       " 'Which two pianists are going to have a piano war on March 27, 2025 at Pittsburgh Improv?',\n",
       " 'What ensemble will perform at Windfluence on April 3, 2025?',\n",
       " 'What event at the Science Center on March 13, 2025, is specifically for teens?',\n",
       " 'Which event features the Italians vs. Irish Celebrity Bocce Tournament?',\n",
       " 'What science seminar will take place on March 17, 2025, focused on bird populations?',\n",
       " 'When is the Orchid and Tropical Bonsai Show happening at Phipps?',\n",
       " 'When is Reunion Weekend at CMU?',\n",
       " 'When is the Dessert Wars event in Pittsburgh?',\n",
       " 'When is the Big Nosh Jewish Food Festival in 2024?',\n",
       " 'Which Pittsburgh event celebrates apple season in the fall?',\n",
       " \"What is the name of the children's club associated with the Pirates?\",\n",
       " 'What is the recommended action for attendees when they are seated during restaurant week?',\n",
       " 'What features the Heinz History Center’s 11th annual Vintage Pittsburgh retro fair on April 5?',\n",
       " 'Who is the acting principal violist of the Pittsburgh Symphony Orchestra',\n",
       " 'Which magic show will run at Liberty Magic from April 2 to May 4, 2025?',\n",
       " 'When do Penguins play Washington Capitals at PPG Paints Arena?',\n",
       " 'When is the Chicago Blackhawks vs. Pittsburgh Penguins game?',\n",
       " 'What concert will Herb Alpert & The Tijuana Brass perform at the Byham Theater on May 12, 2025?',\n",
       " 'Is there an official dress code for Heinz Hall?',\n",
       " 'Who is The Forge Urban Winery hosting on April 11, 2025?',\n",
       " 'What magic show will be at Liberty Magic from May 7 to June 1, 2025?',\n",
       " 'When does the Pizza Passport tour start?',\n",
       " 'Which weekly activities are featured exclusively on the Steelers Mobile App through YinzChat?',\n",
       " 'What music event will be held at the Greer Cabaret Theater on May 10, 2025?',\n",
       " 'When is the Mac & Cheese Festival scheduled in Pittsburgh in 2024?',\n",
       " 'What type of content sections are mentioned in the navigation menu of the Pittsburgh Penguins website?',\n",
       " \"When is POGOH's End of Summer Roll Up scheduled?\",\n",
       " 'What event combines music and cinema on April 3, 2025, at the Pittsburgh Symphony Orchestra?',\n",
       " 'What is the venue for the Dessert Wars in Pittsburgh?',\n",
       " 'When does The Band Jam start?',\n",
       " \"What defines a 'non-resident' under Usage Fee regulations?\",\n",
       " 'Which festival includes face painting and games?',\n",
       " 'Where can participants attend the Miss Little Italy Pageant?',\n",
       " 'What is the admission price for the Vanka Murals Tour?',\n",
       " 'Which classical performance will feature pianist Gerstein playing Tchaikovsky from April 11-13, 2025?',\n",
       " 'Who is the head paleontologist at Carnegie Museum of Natural History?',\n",
       " 'Which concert at Heinz Hall will celebrate the music of the 80s from April 4-6, 2025?',\n",
       " \"Is there an admission fee to attend Pittsburgh's Little Italy Days?\",\n",
       " 'Who are the Pirates playing in Truist Park, Atlanta?',\n",
       " 'What is one of the main contact numbers for PNC Park?',\n",
       " 'What specific historic event does the Fort Pitt Museum in Pittsburgh focus on illustrating?',\n",
       " 'What partner worked with the Community College of Allegheny County on a robotics training course as described in \"The Workforce Training Swamp\"?',\n",
       " 'Which visual arts exhibition at the Pittsburgh Cultural Trust features work by Thaddeus Mosley?',\n",
       " 'Which Pittsburgh event includes a VIP Experience with exclusive seating?',\n",
       " 'What concert will Patina Miller perform at the Greer Cabaret Theater on May 5, 2025?',\n",
       " 'What is the name of the event celebrating the American dessert in Latrobe?',\n",
       " \"What film follows Shula as she navigates family expectations and mourning rituals after her uncle's death?\",\n",
       " 'What was the theme for the Alpha Chi Omega sorority at CMU booth in 2024?',\n",
       " 'What hashtag can fans use to get featured by showing what they are wearing from the Steelers Pro Shop?',\n",
       " 'When is the Park and Ride to the Washington County Fair available?',\n",
       " \"Which food festival highlights Pittsburgh's Greek heritage?\",\n",
       " 'What Pittsburgh Symphony Orchestra event on April 10, 2025, is focused on the theme of love?',\n",
       " 'How much are tickets for the 50th Reunion Dinner Celebration for adults at CMU?',\n",
       " 'What is the role of Christian Marrero in the Pittsburgh Pirates coaching staff?',\n",
       " 'Which charity does the Night Nation Run support?',\n",
       " 'When is the Rangers at Pirates game at PNC Park on Friday, June 20, 2025?',\n",
       " 'Where is free parking available during the Little Italy Days?',\n",
       " 'How long will the exhibit \"The Stories We Keep: Conserving Objects from Ancient Egypt\" be shown at the CMNH?',\n",
       " 'What restaurant will have a special dinner menu at the event \"A Feast for the Murals\"?',\n",
       " 'What is the title of the Carnegie Mellon University MFA exhibition running in early 2025?',\n",
       " 'What is the venue for the Great American Banana Split Celebration?',\n",
       " 'What date is the Vegetarian and Vegan Food Festival scheduled for at Allegheny Commons Park in 2024?',\n",
       " 'Which festival highlights traditional, strictly kosher dishes?',\n",
       " 'What special gallery at CMNH displays gems and jewelry?',\n",
       " 'What hours is the Soul Food Festival open each day?',\n",
       " 'Who donated the funds to build the Phipps Conservatory and Botanical Gardens?',\n",
       " 'Which speaker will be featured in the Speakers Series at Heinz Hall on April 9, 2025?',\n",
       " 'What is the date for the Pittsburgh Veg Fair in 2024?',\n",
       " 'What is the date for the Pittsburgh VegFest celebration?',\n",
       " \"Which museum in Pittsburgh specializes in materials related to bicycles and is noted as the world's largest bike museum and store?\",\n",
       " 'Where will the JigJam concerts be held in Pittsburgh?',\n",
       " 'What activities are included at the Steelers Spooktacular?',\n",
       " 'What is the date for the Pittsburgh VegFest in 2024?',\n",
       " 'Which food festival is held at Stacks at 3 Crossings?',\n",
       " 'How often does the Live Music: Sellers & Root event occur?',\n",
       " \"What time is POGOH's End of Summer Roll Up scheduled?\",\n",
       " 'What is the name of the juried exhibition taking place at SPACE Gallery in 2025?',\n",
       " 'Who is the Bench Coach for the Pittsburgh Pirates?',\n",
       " 'What event will celebrate its 10th anniversary in Latrobe in 2025?',\n",
       " 'When is Spring Carnival Weekend at CMU?',\n",
       " 'Where is the Banana Split Festival hosted?',\n",
       " 'Where is Sheku Kanneh-Mason playing on March 22, 2025?',\n",
       " 'Who is the editor-in-chief of the Pittsburgh City Paper?',\n",
       " 'Which event in Pittsburgh features candy bar bingo and goat yoga?',\n",
       " 'Where is the Uncommon Perfection event at CMU held?',\n",
       " \"Which organization is known for hosting Pittsburgh's Banana Split Festival?\",\n",
       " 'What is Buggy also called at CMU?',\n",
       " 'What venue is hosting the Dessert Wars in 2024?',\n",
       " 'Who is the Senior Director of Community Relations for the Pittsburgh Steelers?',\n",
       " 'What is the venue for the Pittsburgh Veg Fair?',\n",
       " 'What time is the Penny Arcade show happening?',\n",
       " 'What are the dates for Monument Eternal: Le’Andra LeSeur at the Wood Street Gallery?',\n",
       " 'What was the population of Pittsburgh in 1761?',\n",
       " 'What Pittsburgh festival features maple syrup tasting?',\n",
       " 'What special event at the Warhol Museum on March 14, 2025, introduces the new director?',\n",
       " 'What is the setting of \"THe Height of Land\" by M. C. Benner Dixon?',\n",
       " 'Who directed the CMU drama \"The Inseparables\"?',\n",
       " 'What type of play is Alice Childress’ \"Trouble in Mind\"?',\n",
       " 'What event will take place at the Bitz Opera Factory on April 12, 2025, from 12:00 PM to 01:00 PM?',\n",
       " 'Where is the South Side Soup Contest held?',\n",
       " 'What are the four main committees of Activities Board?',\n",
       " 'What is the location of The Band Jam festival?',\n",
       " 'What does the Carnegie Library of Pittsburgh offer across its 19 branches?',\n",
       " 'What comedy tour will be at the Benedum Center on May 1, 2025?',\n",
       " 'Which event is known for showcasing over 30 kinds of mac and cheese?',\n",
       " 'What special access do Gold Ticket holders receive at the Pittsburgh Taco Festival?',\n",
       " 'What is the main attraction of the South Side Soup Contest?',\n",
       " 'Which exhibition will run at the Pittsburgh Cultural Trust from January 18 to June 1, 2025?',\n",
       " 'Which exhibition featuring Tatiana Bilbao Estudio will run from September 21, 2024, to June 15, 2025?']"
      ]
     },
     "execution_count": 127,
     "metadata": {},
     "output_type": "execute_result"
    }
   ],
   "source": [
    "text_missing = [x[0] for x in missing_info_qs]\n",
    "text_missing"
   ]
  }
 ],
 "metadata": {
  "kernelspec": {
   "display_name": "Python python3",
   "language": "python",
   "name": "myenv"
  },
  "language_info": {
   "codemirror_mode": {
    "name": "ipython",
    "version": 3
   },
   "file_extension": ".py",
   "mimetype": "text/x-python",
   "name": "python",
   "nbconvert_exporter": "python",
   "pygments_lexer": "ipython3",
   "version": "3.11.6"
  }
 },
 "nbformat": 4,
 "nbformat_minor": 2
}
