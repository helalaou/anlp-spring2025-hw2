{
 "cells": [
  {
   "cell_type": "code",
   "execution_count": 1,
   "metadata": {},
   "outputs": [],
   "source": [
    "import requests\n",
    "import json\n",
    "\n",
    "# Define the URL and the payload\n",
    "url = \"http://127.0.0.1:8000/query\"\n",
    "payload = {\"query\": \"Where is Pittsburgh?\"}\n",
    "headers = {\"Content-Type\": \"application/json\"}"
   ]
  },
  {
   "cell_type": "code",
   "execution_count": 12,
   "metadata": {},
   "outputs": [],
   "source": [
    "def get_response(query):\n",
    "    response = requests.post(url, data=json.dumps({\"query\": query}), headers=headers)\n",
    "    return response.json()"
   ]
  },
  {
   "cell_type": "code",
   "execution_count": 13,
   "metadata": {},
   "outputs": [
    {
     "name": "stdout",
     "output_type": "stream",
     "text": [
      "{'query': 'Where is Pittsburgh', 'context': '29038: What was the original European name for the area now known as Pittsburgh?\\nA: The \"Manor of Pittsburgh.\"\\n\\n29808: Which city is a county seat in Pennsylvania and part of the Pittsburgh metropolitan area?\\nA: Pittsburgh\\n\\n29245: What is the local dialect of Pittsburgh known as?\\nA: Pittsburghese.'}\n"
     ]
    }
   ],
   "source": [
    "print(get_response(\"Where is Pittsburgh\"))"
   ]
  },
  {
   "cell_type": "code",
   "execution_count": 14,
   "metadata": {},
   "outputs": [
    {
     "name": "stdout",
     "output_type": "stream",
     "text": [
      "Channels:\n",
      " - nvidia\n",
      " - conda-forge\n",
      " - gurobi\n",
      " - defaults\n",
      "Platform: osx-arm64\n",
      "Collecting package metadata (repodata.json): done\n",
      "Solving environment: done\n",
      "\n",
      "## Package Plan ##\n",
      "\n",
      "  environment location: /Users/tianyicheng/anaconda3/envs/ollama-env\n",
      "\n",
      "  added / updated specs:\n",
      "    - python=3.11\n",
      "\n",
      "\n",
      "The following NEW packages will be INSTALLED:\n",
      "\n",
      "  bzip2              conda-forge/osx-arm64::bzip2-1.0.8-h99b78c6_7 \n",
      "  ca-certificates    conda-forge/osx-arm64::ca-certificates-2025.1.31-hf0a4a13_0 \n",
      "  libexpat           conda-forge/osx-arm64::libexpat-2.6.4-h286801f_0 \n",
      "  libffi             conda-forge/osx-arm64::libffi-3.4.2-h3422bc3_5 \n",
      "  liblzma            conda-forge/osx-arm64::liblzma-5.6.4-h39f12f2_0 \n",
      "  libsqlite          conda-forge/osx-arm64::libsqlite-3.49.1-h3f77e49_1 \n",
      "  libzlib            conda-forge/osx-arm64::libzlib-1.3.1-h8359307_2 \n",
      "  ncurses            conda-forge/osx-arm64::ncurses-6.5-h5e97a16_3 \n",
      "  openssl            conda-forge/osx-arm64::openssl-3.4.1-h81ee809_0 \n",
      "  pip                conda-forge/noarch::pip-25.0.1-pyh8b19718_0 \n",
      "  python             conda-forge/osx-arm64::python-3.11.11-hc22306f_2_cpython \n",
      "  readline           conda-forge/osx-arm64::readline-8.2-h1d1bf99_2 \n",
      "  setuptools         conda-forge/noarch::setuptools-75.8.2-pyhff2d567_0 \n",
      "  tk                 conda-forge/osx-arm64::tk-8.6.13-h5083fa2_1 \n",
      "  tzdata             conda-forge/noarch::tzdata-2025a-h78e105d_0 \n",
      "  wheel              conda-forge/noarch::wheel-0.45.1-pyhd8ed1ab_1 \n",
      "\n",
      "\n",
      "\n",
      "Downloading and Extracting Packages:\n",
      "\n",
      "Preparing transaction: done\n",
      "Verifying transaction: done\n",
      "Executing transaction: done\n",
      "#\n",
      "# To activate this environment, use\n",
      "#\n",
      "#     $ conda activate ollama-env\n",
      "#\n",
      "# To deactivate an active environment, use\n",
      "#\n",
      "#     $ conda deactivate\n",
      "\n",
      "\n",
      "CondaError: Run 'conda init' before 'conda activate'\n",
      "\n",
      "Requirement already satisfied: ollama in /Users/tianyicheng/anaconda3/lib/python3.11/site-packages (0.4.7)\n",
      "Requirement already satisfied: httpx<0.29,>=0.27 in /Users/tianyicheng/anaconda3/lib/python3.11/site-packages (from ollama) (0.28.0)\n",
      "Requirement already satisfied: pydantic<3.0.0,>=2.9.0 in /Users/tianyicheng/anaconda3/lib/python3.11/site-packages (from ollama) (2.10.6)\n",
      "Requirement already satisfied: anyio in /Users/tianyicheng/anaconda3/lib/python3.11/site-packages (from httpx<0.29,>=0.27->ollama) (4.8.0)\n",
      "Requirement already satisfied: certifi in /Users/tianyicheng/anaconda3/lib/python3.11/site-packages (from httpx<0.29,>=0.27->ollama) (2025.1.31)\n",
      "Requirement already satisfied: httpcore==1.* in /Users/tianyicheng/anaconda3/lib/python3.11/site-packages (from httpx<0.29,>=0.27->ollama) (1.0.7)\n",
      "Requirement already satisfied: idna in /Users/tianyicheng/anaconda3/lib/python3.11/site-packages (from httpx<0.29,>=0.27->ollama) (3.10)\n",
      "Requirement already satisfied: h11<0.15,>=0.13 in /Users/tianyicheng/anaconda3/lib/python3.11/site-packages (from httpcore==1.*->httpx<0.29,>=0.27->ollama) (0.14.0)\n",
      "Requirement already satisfied: annotated-types>=0.6.0 in /Users/tianyicheng/anaconda3/lib/python3.11/site-packages (from pydantic<3.0.0,>=2.9.0->ollama) (0.7.0)\n",
      "Requirement already satisfied: pydantic-core==2.27.2 in /Users/tianyicheng/anaconda3/lib/python3.11/site-packages (from pydantic<3.0.0,>=2.9.0->ollama) (2.27.2)\n",
      "Requirement already satisfied: typing-extensions>=4.12.2 in /Users/tianyicheng/anaconda3/lib/python3.11/site-packages (from pydantic<3.0.0,>=2.9.0->ollama) (4.12.2)\n",
      "Requirement already satisfied: sniffio>=1.1 in /Users/tianyicheng/anaconda3/lib/python3.11/site-packages (from anyio->httpx<0.29,>=0.27->ollama) (1.3.1)\n"
     ]
    }
   ],
   "source": [
    "!conda create -n ollama-env python=3.11 -y\n",
    "!conda activate ollama-env\n",
    "!pip install ollama"
   ]
  },
  {
   "cell_type": "code",
   "execution_count": 19,
   "metadata": {},
   "outputs": [
    {
     "data": {
      "text/plain": [
       "ProgressResponse(status='success', completed=None, total=None, digest=None)"
      ]
     },
     "execution_count": 19,
     "metadata": {},
     "output_type": "execute_result"
    }
   ],
   "source": [
    "import ollama\n",
    "\n",
    "ollama.pull('llama3.1:8b')  # Replace with your desired model\n",
    "# response = ollama.chat(model='llama3.1:8b', messages=[{\"role\": \"user\", \"content\": \"Explain quantum computing.\"}])\n",
    "\n",
    "# print(response['message']['content'])"
   ]
  },
  {
   "cell_type": "code",
   "execution_count": 22,
   "metadata": {},
   "outputs": [],
   "source": [
    "response = ollama.chat(model='llama3.1:8b', messages=[{\"role\": \"user\", \"content\": \"hello\"}])"
   ]
  },
  {
   "cell_type": "code",
   "execution_count": 25,
   "metadata": {},
   "outputs": [
    {
     "name": "stdout",
     "output_type": "stream",
     "text": [
      "Hello! How are you today? Is there something I can help you with or would you like to chat?\n"
     ]
    }
   ],
   "source": [
    "print(response.message.content)"
   ]
  }
 ],
 "metadata": {
  "kernelspec": {
   "display_name": "Python python3",
   "language": "python",
   "name": "myenv"
  },
  "language_info": {
   "codemirror_mode": {
    "name": "ipython",
    "version": 3
   },
   "file_extension": ".py",
   "mimetype": "text/x-python",
   "name": "python",
   "nbconvert_exporter": "python",
   "pygments_lexer": "ipython3",
   "version": "3.11.6"
  }
 },
 "nbformat": 4,
 "nbformat_minor": 2
}
