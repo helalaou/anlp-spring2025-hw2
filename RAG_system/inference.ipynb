{
 "cells": [
  {
   "cell_type": "code",
   "execution_count": null,
   "metadata": {},
   "outputs": [
    {
     "data": {
      "text/plain": [
       "ProgressResponse(status='success', completed=None, total=None, digest=None)"
      ]
     },
     "execution_count": 29,
     "metadata": {},
     "output_type": "execute_result"
    }
   ],
   "source": [
    "import requests\n",
    "import json\n",
    "import ollama\n",
    "\n",
    "url = \"http://127.0.0.1:8000/query\"\n",
    "headers = {\"Content-Type\": \"application/json\"}\n",
    "ollama.pull('llama3.1:8b') "
   ]
  },
  {
   "cell_type": "code",
   "execution_count": null,
   "metadata": {},
   "outputs": [],
   "source": [
    "def get_response(query):\n",
    "    response = requests.post(url, data=json.dumps({\"query\": query}), headers=headers)\n",
    "    return response.json()"
   ]
  },
  {
   "cell_type": "code",
   "execution_count": null,
   "metadata": {},
   "outputs": [],
   "source": [
    "def get_prompt(response):\n",
    "    system_prompt = \"You are a factual question-answering assistant specializing in information about Pittsburgh and Carnegie Mellon University (CMU).\\nYour task is to provide accurate answers to questions about various facts concerning Pittsburgh and CMU.\\nYou are given a user question and a context. Your task is to answer the question based on the retrieved documents in the context while also considering the chat history.\\nDo not hallucinate or add extra information. Stick to the information provided in the retrieved documents.\\nIf the retrieved documents do not contain information relevant to the question or if the information is irrelevant, then you shoud acknowledge that you don't have enough information to answer accurately.\\nWrite in a clear, concise, and informative tone.\\nDO not mention the source from where you got the information. If you get too much information, only use the information that you need to answer the question and ignore the rest.\"\n",
    "    prompt = f\"SYSTEM PROMPT:\\n {system_prompt}\\n ---------------------------\\n\"\n",
    "    prompt += f\"USER QUESTION:\\n{response['query']}\\n---------------------------\\n\"\n",
    "    prompt += f\"RETRIEVED DOCUMENTS:\\n{response['context']}\\n\"\n",
    "    prompt += f\"---------------------------\\nYour answer:\"\n",
    "\n",
    "    return prompt\n",
    "\n",
    "def call_ollama(prompt):\n",
    "    response = ollama.chat(model='llama3.1:8b', messages=[{\"role\": \"user\", \"content\": prompt}])\n",
    "    return response.message.content\n",
    "\n",
    "def get_answer(question):\n",
    "    response = get_response(question)\n",
    "\n",
    "    # print(\"RAG Response\")\n",
    "    # print(response)\n",
    "\n",
    "    prompt = get_prompt(response)\n",
    "\n",
    "    # print(\"Call Ollama\")\n",
    "    response = ollama.chat(model='llama3.1:8b', messages=[{\"role\": \"user\", \"content\": prompt}])\n",
    "\n",
    "    # print(\"Get Response\")\n",
    "    # print(response.message.content)\n",
    "    return response.message.content"
   ]
  },
  {
   "cell_type": "code",
   "execution_count": null,
   "metadata": {},
   "outputs": [
    {
     "name": "stdout",
     "output_type": "stream",
     "text": [
      "CMU created 36 spinoff companies in 2014.\n"
     ]
    }
   ],
   "source": [
    "question = \"How many spinoff companies did CMU create in 2014?  \"\n",
    "print(get_answer(question))"
   ]
  },
  {
   "cell_type": "code",
   "execution_count": 44,
   "metadata": {},
   "outputs": [
    {
     "name": "stdout",
     "output_type": "stream",
     "text": [
      "RAG Response\n",
      "{'query': 'How many spinoff companies did CMU create in 2014?  ', 'context': '39707: How many spinoff companies did CMU create in 2014?  \\nA: 36.\\n\\n39688: How many companies have been launched from CMU?  \\nA: Over 1,000 companies globally.\\n\\n39706: What major companies have set up operations in Pittsburgh due to CMU?  \\nA: Google, Intel, Uber, and GE.'}\n",
      "CMU created 36 spinoff companies in 2014.\n"
     ]
    }
   ],
   "source": [
    "question = \"How many spinoff companies did CMU create in 2014?  \"\n",
    "print(get_answer(question))"
   ]
  }
 ],
 "metadata": {
  "kernelspec": {
   "display_name": "Python python3",
   "language": "python",
   "name": "myenv"
  },
  "language_info": {
   "codemirror_mode": {
    "name": "ipython",
    "version": 3
   },
   "file_extension": ".py",
   "mimetype": "text/x-python",
   "name": "python",
   "nbconvert_exporter": "python",
   "pygments_lexer": "ipython3",
   "version": "3.11.6"
  }
 },
 "nbformat": 4,
 "nbformat_minor": 2
}
